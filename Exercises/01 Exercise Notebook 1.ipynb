{
 "cells": [
  {
   "cell_type": "markdown",
   "metadata": {},
   "source": [
    "# Exercise 1\n",
    "\n",
    "We first load a dataset and examine its dimensions."
   ]
  },
  {
   "cell_type": "code",
   "execution_count": 43,
   "metadata": {},
   "outputs": [],
   "source": [
    "# If you are running this on Google Colab, uncomment and run the following lines; otherwise ignore this cell\n",
    "# from google.colab import drive\n",
    "# drive.mount('/content/drive')"
   ]
  },
  {
   "cell_type": "code",
   "execution_count": 44,
   "metadata": {},
   "outputs": [],
   "source": [
    "import math\n",
    "import numpy as np\n",
    "\n",
    "xy_data = np.load('Ex1_polyreg_data.npy')\n",
    "# If running on Google Colab change path to '/content/drive/MyDrive/IB-Data-Science/Exercises/Ex1_polyreg_data.npy'\n",
    "\n",
    "x =np.shape(xy_data)"
   ]
  },
  {
   "cell_type": "markdown",
   "metadata": {},
   "source": [
    "The matrix `xy_data` contains $70$ rows, each a data point of the form $(x_i,y_i)$ for $i=1, \\ldots, 70$."
   ]
  },
  {
   "cell_type": "markdown",
   "metadata": {},
   "source": [
    "### 1a) Plot the data in a scatterplot."
   ]
  },
  {
   "cell_type": "code",
   "execution_count": 45,
   "metadata": {},
   "outputs": [
    {
     "data": {
      "image/png": "[encoded data removed]",
      "text/plain": [
       "<Figure size 432x288 with 1 Axes>"
      ]
     },
     "metadata": {
      "needs_background": "light"
     },
     "output_type": "display_data"
    }
   ],
   "source": [
    "import matplotlib.pyplot as plt\n",
    "# Your code for scatterplot here\n",
    "\n",
    "data_x = xy_data[:,0]\n",
    "data_y = xy_data[:,1]\n",
    "\n",
    "plt.scatter(data_x, data_y, s=10)   # s can be used to adjust the size of the dots\n",
    "plt.xlabel('x-axis')\n",
    "plt.ylabel('y-axis')\n",
    "plt.show()"
   ]
  },
  {
   "cell_type": "markdown",
   "metadata": {},
   "source": [
    "### 1b) Write a function `polyreg` to fit a polynomial of a given order to a dataset. \n",
    "The inputs to the function are a data matrix of dimension $N \\times 2$,  and $k \\geq 0$, the order of the polynomial.   The function should compute the coefficients of the polynomial $\\beta_0 + \\beta_1 x +  \\ldots  +\\beta_k x^{k}$ via least squares regression, and should return the coefficient vector, the fit, and the vector of residuals. \n",
    "\n",
    "If specified the degree $k$ is greater than or equal to $N$, then the function must fit an order $(N-1)$ polynomial and set the remaining coefficients to zero.\n",
    "\n",
    "**NOTE**: You are *not* allowed to use the built-in function `np.polyfit`."
   ]
  },
  {
   "cell_type": "code",
   "execution_count": 46,
   "metadata": {},
   "outputs": [],
   "source": [
    "def polyreg(data_matrix, k):\n",
    "    # Your code here\n",
    "    # The function should return the the coefficient vector \n",
    "    # beta, the fit, and the vector of residuals\n",
    "\n",
    "    data_x = data_matrix[:,0]\n",
    "    data_y = data_matrix[:,1]\n",
    "\n",
    "    all_ones = np.ones(np.shape(data_x))\n",
    "\n",
    "    N = np.shape(data_matrix)[0]\n",
    "\n",
    "    if k >= N:\n",
    "        k = N - 1\n",
    "    \n",
    "    else:\n",
    "        k = k\n",
    "    \n",
    "    data_x_array = []\n",
    "    for i in range(k+1): # working it out for every vaule of k\n",
    "            x_calc = data_x ** i\n",
    "            if i == 0:\n",
    "                 data_x_array.append(all_ones)\n",
    "            else:\n",
    "                 data_x_array.append(x_calc)\n",
    "            \n",
    "    x2_trans = np.vstack(data_x_array)\n",
    "    x2 = np.transpose(x2_trans)\n",
    "\n",
    "    beta_poly = np.linalg.lstsq(x2, data_y, rcond=None)[0]\n",
    "    fit_poly = x2.dot(beta_poly)\n",
    "    resid = data_y - fit_poly\n",
    "    \n",
    "\n",
    "    return beta_poly, fit_poly, resid"
   ]
  },
  {
   "cell_type": "markdown",
   "metadata": {},
   "source": [
    "Use the tests below to check the outputs of the function you have written:"
   ]
  },
  {
   "cell_type": "code",
   "execution_count": 47,
   "metadata": {},
   "outputs": [],
   "source": [
    "# Some tests to make sure your function is working correctly\n",
    "\n",
    "xcol = np.arange(-1, 1.05, 0.1)\n",
    "ycol = 2 - 7*xcol + 3*(xcol**2)  # We are generating data accoridng to y = 2 - 7x + 3x^2\n",
    "test_matrix = np.transpose(np.vstack((xcol,ycol)))\n",
    "test_matrix.shape\n",
    "\n",
    "beta_test = polyreg(test_matrix, k=2)[0] \n",
    "assert((np.round(beta_test[0], 3) == 2) and (np.round(beta_test[1], 3) == -7) and (np.round(beta_test[2], 3) == 3))  \n",
    "# We want to check that using the function with k=2 recovers the coefficients exactly\n",
    "\n",
    "# Now check the zeroth order fit, i.e., the function gives the correct output with k=0\n",
    "beta_test = polyreg(test_matrix, k=0)[0]\n",
    "res_test = polyreg(test_matrix, k=0)[2] #the last output of the function gives the vector of residuals\n",
    "\n",
    "assert(np.round(beta_test, 3) == 3.1)\n",
    "assert(np.round(np.linalg.norm(res_test), 3) == 19.937)"
   ]
  },
  {
   "cell_type": "markdown",
   "metadata": {},
   "source": [
    "### 1c) Use `polyreg` to fit polynomial models for the data in `xy_data` for $k=2,3,4$:\n",
    "\n",
    "- Plot the fits for the three cases on the same plot together with the scatterplot of the data. The plots should be labelled and a legend included. \n",
    "- Compute and print the SSE and $R^2$ coefficient for each of the three cases.\n",
    "- Which of the three models you would choose? Briefly justify your choice."
   ]
  },
  {
   "cell_type": "code",
   "execution_count": 48,
   "metadata": {},
   "outputs": [
    {
     "data": {
      "image/png": "[encoded data removed]",
      "text/plain": [
       "<Figure size 432x288 with 1 Axes>"
      ]
     },
     "metadata": {
      "needs_background": "light"
     },
     "output_type": "display_data"
    },
    {
     "name": "stdout",
     "output_type": "stream",
     "text": [
      "SSE_2 =  172.18 R_2^2 =  0.8876\n",
      "SSE_3 =  152.41 R_3^2 =  0.9005\n",
      "SSE_4 =  151.23 R_4^2 =  0.9013\n"
     ]
    }
   ],
   "source": [
    "#Your code here\n",
    "[beta_2, fit_2, resid_2] = polyreg(xy_data, 2)\n",
    "[beta_3, fit_3, resid_3] = polyreg(xy_data, 3)\n",
    "[beta_4, fit_4, resid_4] = polyreg(xy_data, 4)\n",
    "all_ones = np.ones(np.shape(data_x))\n",
    "fit_0 = np.mean(data_y) * all_ones\n",
    "\n",
    "plt.scatter(data_x, data_y, s=10, label = 'Data - xy')\n",
    "plt.plot(data_x, fit_2, label = 'k = 2')\n",
    "plt.plot(data_x, fit_3, label = 'k = 3')\n",
    "plt.plot(data_x, fit_4, label = 'k = 4')\n",
    "plt.legend()\n",
    "plt.show()\n",
    "\n",
    "SSE_0 = np.linalg.norm(data_y - fit_0)**2\n",
    "SSE_2 = np.linalg.norm(data_y - fit_2)**2\n",
    "SSE_3 = np.linalg.norm(data_y - fit_3)**2\n",
    "SSE_4 = np.linalg.norm(data_y - fit_4)**2\n",
    "\n",
    "R_2 = 1 - SSE_2 / SSE_0\n",
    "R_3 = 1 - SSE_3 / SSE_0\n",
    "R_4 = 1 - SSE_4 / SSE_0\n",
    "\n",
    "print('SSE_2 = ', np.round_(SSE_2, 2), 'R_2^2 = ', np.round(R_2, decimals = 4))\n",
    "print('SSE_3 = ', np.round_(SSE_3, 2), 'R_3^2 = ', np.round(R_3, decimals = 4))\n",
    "print('SSE_4 = ', np.round_(SSE_4, 2), 'R_4^2 = ', np.round(R_4, decimals = 4))"
   ]
  },
  {
   "attachments": {},
   "cell_type": "markdown",
   "metadata": {},
   "source": [
    " #### State which model you choose and briefly justify your choice.\n",
    " \n",
    " \n",
    "For the data range given, it can be seen that k = 4 is the best. This is because the error is the lowest (SSE), and the coefficient of determination (R^2) is the highest. This means that k = 4 is the best performing polynomial. \n",
    " \n",
    " "
   ]
  },
  {
   "cell_type": "markdown",
   "metadata": {},
   "source": [
    "### 1d)  For the model you have chosen in the previous part (either $k=2/3/4)$:\n",
    "\n",
    "- Plot the residuals in a scatter plot. \n",
    "- Plot a histogram of the residuals along with a Gaussian pdf with zero mean and the same standard deviation as the residuals."
   ]
  },
  {
   "cell_type": "code",
   "execution_count": 49,
   "metadata": {},
   "outputs": [
    {
     "data": {
      "image/png": "[encoded data removed]",
      "text/plain": [
       "<Figure size 432x288 with 1 Axes>"
      ]
     },
     "metadata": {
      "needs_background": "light"
     },
     "output_type": "display_data"
    },
    {
     "data": {
      "image/png": "[encoded data removed]",
      "text/plain": [
       "<Figure size 432x288 with 1 Axes>"
      ]
     },
     "metadata": {
      "needs_background": "light"
     },
     "output_type": "display_data"
    }
   ],
   "source": [
    "#Your code here\n",
    "#plotting a scatter of resid_4 from above\n",
    "\n",
    "plt.scatter(data_x, resid_4)\n",
    "plt.show()\n",
    "\n",
    "# Plot normed histogram of the residuals\n",
    "n, bins, patches = plt.hist(resid_4, bins = 20, density = True, facecolor = 'green');\n",
    "\n",
    "# Plot Gaussian pdf with same mean and variance as the residuals\n",
    "from scipy.stats import norm\n",
    "\n",
    "res_stdev = np.std(resid_4)  #standard deviation of residuals\n",
    "xvals = np.linspace(-3 * res_stdev, 3 * res_stdev, 1000)\n",
    "plt.plot(xvals, norm.pdf(xvals, loc = 0, scale = res_stdev), 'r')\n",
    "plt.show()"
   ]
  }
 ],
 "metadata": {
  "kernelspec": {
   "display_name": "Python 3",
   "language": "python",
   "name": "python3"
  },
  "language_info": {
   "codemirror_mode": {
    "name": "ipython",
    "version": 3
   },
   "file_extension": ".py",
   "mimetype": "text/x-python",
   "name": "python",
   "nbconvert_exporter": "python",
   "pygments_lexer": "ipython3",
   "version": "3.9.7"
  }
 },
 "nbformat": 4,
 "nbformat_minor": 2
}
